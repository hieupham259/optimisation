{
 "cells": [
  {
   "cell_type": "code",
   "execution_count": 3,
   "metadata": {},
   "outputs": [],
   "source": [
    "from pulp import *"
   ]
  },
  {
   "cell_type": "code",
   "execution_count": 4,
   "metadata": {},
   "outputs": [],
   "source": [
    "Warehouses = [\"A\", \"B\"]\n",
    "\n",
    "supply = {\"A\": 1000, \"B\": 4000}\n",
    "\n",
    "Bars = [\"1\", \"2\", \"3\", \"4\", \"5\"]\n",
    "\n",
    "demand = {\n",
    "    \"1\": 500,\n",
    "    \"2\": 900,\n",
    "    \"3\": 1800,\n",
    "    \"4\": 200,\n",
    "    \"5\": 700\n",
    "}\n"
   ]
  },
  {
   "cell_type": "code",
   "execution_count": 5,
   "metadata": {},
   "outputs": [
    {
     "name": "stdout",
     "output_type": "stream",
     "text": [
      "{'A': {'1': 2, '2': 4, '3': 5, '4': 2, '5': 1}, 'B': {'1': 3, '2': 1, '3': 3, '4': 2, '5': 3}}\n"
     ]
    }
   ],
   "source": [
    "costs = [  # Bars\n",
    "    # 1 2 3 4 5\n",
    "    [2, 4, 5, 2, 1],  # A   Warehouses\n",
    "    [3, 1, 3, 2, 3],  # B\n",
    "]\n",
    "costs = makeDict([Warehouses, Bars], costs)\n",
    "print(costs)"
   ]
  },
  {
   "cell_type": "code",
   "execution_count": 35,
   "metadata": {},
   "outputs": [
    {
     "data": {
      "text/plain": [
       "[('A', '1'),\n",
       " ('A', '2'),\n",
       " ('A', '3'),\n",
       " ('A', '4'),\n",
       " ('A', '5'),\n",
       " ('B', '1'),\n",
       " ('B', '2'),\n",
       " ('B', '3'),\n",
       " ('B', '4'),\n",
       " ('B', '5')]"
      ]
     },
     "execution_count": 35,
     "metadata": {},
     "output_type": "execute_result"
    }
   ],
   "source": [
    "# Create the 'prob' variable to contain the problem data\n",
    "prob = LpProblem(\"The Beer Transporting Problem\", LpMinimize)\n",
    "Routes = []\n",
    "for w in Warehouses:\n",
    "    for b in Bars:\n",
    "        Routes.append((w, b))\n",
    "Routes"
   ]
  },
  {
   "cell_type": "code",
   "execution_count": 36,
   "metadata": {},
   "outputs": [
    {
     "data": {
      "text/plain": [
       "{'A': {'1': Route_A_1,\n",
       "  '2': Route_A_2,\n",
       "  '3': Route_A_3,\n",
       "  '4': Route_A_4,\n",
       "  '5': Route_A_5},\n",
       " 'B': {'1': Route_B_1,\n",
       "  '2': Route_B_2,\n",
       "  '3': Route_B_3,\n",
       "  '4': Route_B_4,\n",
       "  '5': Route_B_5}}"
      ]
     },
     "execution_count": 36,
     "metadata": {},
     "output_type": "execute_result"
    }
   ],
   "source": [
    "vars = LpVariable.dicts(\"Route\", (Warehouses, Bars), 0, None, LpInteger)\n",
    "vars"
   ]
  },
  {
   "cell_type": "code",
   "execution_count": 37,
   "metadata": {},
   "outputs": [],
   "source": [
    "# the objective function\n",
    "prob += (\n",
    "    lpSum([costs[w][b] * vars[w][b] for (w, b) in Routes]),\n",
    "    'Sum_of_Transporting_Costs'\n",
    ")\n",
    "\n",
    "# the Warehouses constraint\n",
    "for w in Warehouses:\n",
    "    prob += (\n",
    "        lpSum([vars[w][b] for b in Bars]) <= supply[w], f\"warehouse{w}capacity\"\n",
    "    )\n",
    "for b in Bars:\n",
    "    prob += (\n",
    "        lpSum([vars[w][b] for w in Warehouses]) >= demand[b], f\"Bar{b}capacity\"\n",
    "    )\n",
    "# prob += (lpSum([vars[w][b] for (w, b) in Routes if w == 'A']) <= 1000, \"WarehouseACapacity\")\n",
    "# prob += (lpSum([vars[w][b] for (w, b) in Routes if w == 'B']) <= 4000, \"WarehouseBCapacity\")\n",
    "\n",
    "# prob += (lpSum([vars[w][b] for (w, b) in Routes if b == '1']) >= 500, \"Bar1Capacity\")\n",
    "# prob += (lpSum([vars[w][b] for (w, b) in Routes if b == '2']) >= 900, \"Bar2Capacity\")\n",
    "# prob += (lpSum([vars[w][b] for (w, b) in Routes if b == '3']) >= 1800, \"Bar3Capacity\")\n",
    "# prob += (lpSum([vars[w][b] for (w, b) in Routes if b == '4']) >= 200, \"Bar4Capacity\")\n",
    "# prob += (lpSum([vars[w][b] for (w, b) in Routes if b == '5']) >= 700, \"Bar5Capacity\")\n"
   ]
  },
  {
   "cell_type": "code",
   "execution_count": 38,
   "metadata": {},
   "outputs": [
    {
     "data": {
      "text/plain": [
       "1"
      ]
     },
     "execution_count": 38,
     "metadata": {},
     "output_type": "execute_result"
    }
   ],
   "source": [
    "prob.writeLP(\"BeerTransporting.lp\")\n",
    "# The problem is solved using PuLP's choice of Solver\n",
    "prob.solve()"
   ]
  },
  {
   "cell_type": "code",
   "execution_count": 39,
   "metadata": {},
   "outputs": [
    {
     "name": "stdout",
     "output_type": "stream",
     "text": [
      "Status: Optimal\n",
      "Route_A_1 = 300.0\n",
      "Route_A_2 = 0.0\n",
      "Route_A_3 = 0.0\n",
      "Route_A_4 = 0.0\n",
      "Route_A_5 = 700.0\n",
      "Route_B_1 = 200.0\n",
      "Route_B_2 = 900.0\n",
      "Route_B_3 = 1800.0\n",
      "Route_B_4 = 200.0\n",
      "Route_B_5 = 0.0\n",
      "Total Cost of Transporting process =  8600.0\n"
     ]
    }
   ],
   "source": [
    "# The status of the solution is printed to the screen\n",
    "print(\"Status:\", LpStatus[prob.status])\n",
    "# Each of the variables is printed with it's resolved optimum value\n",
    "for v in prob.variables():\n",
    "    print(v.name, \"=\", v.varValue)\n",
    "# The optimised objective function value is printed to the screen\n",
    "print(\"Total Cost of Transporting process = \", value(prob.objective))"
   ]
  }
 ],
 "metadata": {
  "kernelspec": {
   "display_name": "Python 3",
   "language": "python",
   "name": "python3"
  },
  "language_info": {
   "codemirror_mode": {
    "name": "ipython",
    "version": 3
   },
   "file_extension": ".py",
   "mimetype": "text/x-python",
   "name": "python",
   "nbconvert_exporter": "python",
   "pygments_lexer": "ipython3",
   "version": "3.9.0"
  },
  "orig_nbformat": 4
 },
 "nbformat": 4,
 "nbformat_minor": 2
}
