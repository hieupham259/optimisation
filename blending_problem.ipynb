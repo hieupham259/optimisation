{
 "cells": [
  {
   "attachments": {},
   "cell_type": "markdown",
   "metadata": {},
   "source": [
    "https://coin-or.github.io/pulp/CaseStudies/a_blending_problem.html\n",
    "1. Identify D.V:\n",
    "+ Using 2 ingredients to produce cat food: Chicken and Beef. We have 6 D.Vs:\n",
    "    - x1 = percentage of chicken meat in a can of cat food.\n",
    "    - x2 = percentage of beef meat in a can of cat food.\n",
    "    - x3 = percentage of mutton meat in a can of cat food.\n",
    "    - x4 = percentage of rice in a can of cat food.\n",
    "    - x5 = percentage of wheat in a can of cat food.\n",
    "    - x6 = percentage of gel in a can of cat food.\n",
    "2. Formulating the Objective Function:\n",
    "+ min 0.013*x1 + 0.008*x2 + 0.01*x3 + 0.002*x4 + 0.005*x5 + 0.001*x6.\n",
    "3. Formulating the Constraint:\n",
    "+ We need to have at least 8g Protein per 100g.\n",
    "+ We need to have at least 6g Fat per 100g.\n",
    "+ We need to have no more 2g Fibre per 100g.\n",
    "+ We need to have no more 0.4g Salt per 100g.\n",
    "+ The constraint formula:\n",
    "    - 0.1*x1 + 0.2*x2 + 0.15*x3 + 0.00*x4 + 0.04*x5 + 0.00*x6 >= 8\n",
    "    - 0.08*x1 + 0.1*x2 + 0.11*x3 + 0.01*x4 + 0.01*x5 + 0.00*x6 >= 6\n",
    "    - 0.001*x1 + 0.005*x2 + 0.003*x3 + 0.1*x4 + 0.15*x5 + 0.00*x6 <= 2\n",
    "    - 0.002*x1 + 0.005*x2 + 0.007*x3 + 0.002*x4 + 0.08*x5 + 0.00*x6 <= 0.4\n",
    "    - x1 + x2 + x3 + x4 + x5 + x6 = 100"
   ]
  },
  {
   "cell_type": "code",
   "execution_count": 10,
   "metadata": {},
   "outputs": [],
   "source": [
    "from pulp import *\n",
    "\n",
    "# Creates a list of the Ingredients\n",
    "Ingredients = [\"CHICKEN\", \"BEEF\", \"MUTTON\", \"RICE\", \"WHEAT\", \"GEL\"]\n",
    "costs = {\n",
    "    \"CHICKEN\": 0.013,\n",
    "    \"BEEF\": 0.008,\n",
    "    \"MUTTON\": 0.010,\n",
    "    \"RICE\": 0.002,\n",
    "    \"WHEAT\": 0.005,\n",
    "    \"GEL\": 0.001,\n",
    "}\n",
    "\n",
    "# A dictionary of the protein percent in each of the Ingredients is created\n",
    "proteinPercent = {\n",
    "    \"CHICKEN\": 0.100,\n",
    "    \"BEEF\": 0.200,\n",
    "    \"MUTTON\": 0.150,\n",
    "    \"RICE\": 0.000,\n",
    "    \"WHEAT\": 0.040,\n",
    "    \"GEL\": 0.000,\n",
    "}\n",
    "\n",
    "# A dictionary of the fat percent in each of the Ingredients is created\n",
    "fatPercent = {\n",
    "    \"CHICKEN\": 0.080,\n",
    "    \"BEEF\": 0.100,\n",
    "    \"MUTTON\": 0.110,\n",
    "    \"RICE\": 0.010,\n",
    "    \"WHEAT\": 0.010,\n",
    "    \"GEL\": 0.000,\n",
    "}\n",
    "\n",
    "# A dictionary of the fibre percent in each of the Ingredients is created\n",
    "fibrePercent = {\n",
    "    \"CHICKEN\": 0.001,\n",
    "    \"BEEF\": 0.005,\n",
    "    \"MUTTON\": 0.003,\n",
    "    \"RICE\": 0.100,\n",
    "    \"WHEAT\": 0.150,\n",
    "    \"GEL\": 0.000,\n",
    "}\n",
    "\n",
    "# A dictionary of the salt percent in each of the Ingredients is created\n",
    "saltPercent = {\n",
    "    \"CHICKEN\": 0.002,\n",
    "    \"BEEF\": 0.005,\n",
    "    \"MUTTON\": 0.007,\n",
    "    \"RICE\": 0.002,\n",
    "    \"WHEAT\": 0.008,\n",
    "    \"GEL\": 0.000,\n",
    "}"
   ]
  },
  {
   "cell_type": "code",
   "execution_count": 19,
   "metadata": {},
   "outputs": [
    {
     "name": "stdout",
     "output_type": "stream",
     "text": [
      "{'CHICKEN': Ingr_CHICKEN, 'BEEF': Ingr_BEEF, 'MUTTON': Ingr_MUTTON, 'RICE': Ingr_RICE, 'WHEAT': Ingr_WHEAT, 'GEL': Ingr_GEL}\n"
     ]
    }
   ],
   "source": [
    "# Create the 'prob' variable to contain the problem data\n",
    "prob = LpProblem(\"The Blending Problem\", LpMinimize)\n",
    "ingredient_vars = LpVariable.dicts(\"Ingr\", Ingredients, 0)\n",
    "print(ingredient_vars)"
   ]
  },
  {
   "cell_type": "code",
   "execution_count": 20,
   "metadata": {},
   "outputs": [],
   "source": [
    "# the objective function\n",
    "prob += (\n",
    "    lpSum([costs[i] * ingredient_vars[i] for i in Ingredients]),\n",
    "    'Total Cost of Ingredients per can'\n",
    ")\n",
    "\n",
    "# the constraint\n",
    "prob += lpSum([ingredient_vars[i] for i in Ingredients]) == 100, \"PercentagesSum\"\n",
    "\n",
    "prob += (lpSum([proteinPercent[i] * ingredient_vars[i] for i in Ingredients]) >= 8, \"ProteinRequirement\")\n",
    "prob += (lpSum([fatPercent[i] * ingredient_vars[i] for i in Ingredients]) >= 6, \"FatRequirement\")\n",
    "prob += (lpSum([fibrePercent[i] * ingredient_vars[i] for i in Ingredients]) <= 2, \"FibreRequirement\")\n",
    "prob += (lpSum([saltPercent[i] * ingredient_vars[i] for i in Ingredients]) <= 0.4, \"SaltRequirement\")\n"
   ]
  },
  {
   "cell_type": "code",
   "execution_count": 21,
   "metadata": {},
   "outputs": [
    {
     "data": {
      "text/plain": [
       "1"
      ]
     },
     "execution_count": 21,
     "metadata": {},
     "output_type": "execute_result"
    }
   ],
   "source": [
    "prob.writeLP(\"BlendingModel.lp\")\n",
    "# The problem is solved using PuLP's choice of Solver\n",
    "prob.solve()"
   ]
  },
  {
   "cell_type": "code",
   "execution_count": 24,
   "metadata": {},
   "outputs": [
    {
     "name": "stdout",
     "output_type": "stream",
     "text": [
      "Status: Optimal\n",
      "Ingr_BEEF = 60.0\n",
      "Ingr_CHICKEN = 0.0\n",
      "Ingr_GEL = 40.0\n",
      "Ingr_MUTTON = 0.0\n",
      "Ingr_RICE = 0.0\n",
      "Ingr_WHEAT = 0.0\n",
      "Total Cost of Ingredients per can =  0.52\n"
     ]
    }
   ],
   "source": [
    "# The status of the solution is printed to the screen\n",
    "print(\"Status:\", LpStatus[prob.status])\n",
    "# Each of the variables is printed with it's resolved optimum value\n",
    "for v in prob.variables():\n",
    "    print(v.name, \"=\", v.varValue)\n",
    "# The optimised objective function value is printed to the screen\n",
    "print(\"Total Cost of Ingredients per can = \", value(prob.objective))"
   ]
  }
 ],
 "metadata": {
  "kernelspec": {
   "display_name": "Python 3",
   "language": "python",
   "name": "python3"
  },
  "language_info": {
   "codemirror_mode": {
    "name": "ipython",
    "version": 3
   },
   "file_extension": ".py",
   "mimetype": "text/x-python",
   "name": "python",
   "nbconvert_exporter": "python",
   "pygments_lexer": "ipython3",
   "version": "3.9.10"
  },
  "orig_nbformat": 4,
  "vscode": {
   "interpreter": {
    "hash": "81794d4967e6c3204c66dcd87b604927b115b27c00565d3d43f05ba2f3a2cb0d"
   }
  }
 },
 "nbformat": 4,
 "nbformat_minor": 2
}
