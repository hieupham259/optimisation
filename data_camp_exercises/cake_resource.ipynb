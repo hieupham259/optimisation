{
 "cells": [
  {
   "cell_type": "code",
   "execution_count": 1,
   "metadata": {},
   "outputs": [],
   "source": [
    "from pulp import *"
   ]
  },
  {
   "cell_type": "code",
   "execution_count": 10,
   "metadata": {},
   "outputs": [],
   "source": [
    "CAKE_TYPES = [\"A\", \"B\"]\n",
    "\n",
    "OVEN_TIME = {\n",
    "    \"A\": 0.5,\n",
    "    \"B\": 1\n",
    "}\n",
    "\n",
    "BAKERS = {\n",
    "    \"A\": 1,\n",
    "    \"B\": 2.5,\n",
    "}\n",
    "\n",
    "PACKERS = {\n",
    "    \"A\": 1,\n",
    "    \"B\": 2,\n",
    "}\n",
    "\n",
    "PROFIT = {\n",
    "    \"A\": 20,\n",
    "    \"B\": 40\n",
    "}"
   ]
  },
  {
   "cell_type": "code",
   "execution_count": 14,
   "metadata": {},
   "outputs": [
    {
     "name": "stdout",
     "output_type": "stream",
     "text": [
      "{'A': AMOUNT_A, 'B': AMOUNT_B}\n"
     ]
    },
    {
     "name": "stderr",
     "output_type": "stream",
     "text": [
      "c:\\Users\\admin\\AppData\\Local\\Programs\\Python\\Python39\\lib\\site-packages\\pulp\\pulp.py:1352: UserWarning: Spaces are not permitted in the name. Converted to '_'\n",
      "  warnings.warn(\"Spaces are not permitted in the name. Converted to '_'\")\n"
     ]
    }
   ],
   "source": [
    "prob = LpProblem(\"Cake resource scheduling\", LpMaximize)\n",
    "type_vars = LpVariable.dicts(\"AMOUNT\", CAKE_TYPES, 0, None)\n",
    "print(type_vars)"
   ]
  },
  {
   "cell_type": "code",
   "execution_count": 15,
   "metadata": {},
   "outputs": [],
   "source": [
    "# the O.F\n",
    "prob += (\n",
    "    lpSum([PROFIT[ty] * type_vars[ty] for ty in CAKE_TYPES]),\n",
    "    \"Total profit each type\"\n",
    ")\n",
    "\n",
    "# the constraint\n",
    "prob += (lpSum([OVEN_TIME[ty] * type_vars[ty] for ty in CAKE_TYPES]) <= 30, \"OvenTime\")\n",
    "prob += (lpSum([BAKERS[ty] * type_vars[ty] for ty in CAKE_TYPES]) <= 60, \"BakersTime\")\n",
    "prob += (lpSum([PACKERS[ty] * type_vars[ty] for ty in CAKE_TYPES]) <= 22, \"PackersTime\")"
   ]
  },
  {
   "cell_type": "code",
   "execution_count": 16,
   "metadata": {},
   "outputs": [
    {
     "data": {
      "text/plain": [
       "1"
      ]
     },
     "execution_count": 16,
     "metadata": {},
     "output_type": "execute_result"
    }
   ],
   "source": [
    "prob.writeLP(\"CakeResource.lp\")\n",
    "# The problem is solved using PuLP's choice of Solver\n",
    "prob.solve()"
   ]
  },
  {
   "cell_type": "code",
   "execution_count": 17,
   "metadata": {},
   "outputs": [
    {
     "name": "stdout",
     "output_type": "stream",
     "text": [
      "Status: Optimal\n",
      "AMOUNT_A = 0.0\n",
      "AMOUNT_B = 11.0\n",
      "Total Cost of Ingredients per can =  440.0\n"
     ]
    }
   ],
   "source": [
    "# The status of the solution is printed to the screen\n",
    "print(\"Status:\", LpStatus[prob.status])\n",
    "# Each of the variables is printed with it's resolved optimum value\n",
    "for v in prob.variables():\n",
    "    print(v.name, \"=\", v.varValue)\n",
    "# The optimised objective function value is printed to the screen\n",
    "print(\"Total Cost of Ingredients per can = \", value(prob.objective))"
   ]
  }
 ],
 "metadata": {
  "kernelspec": {
   "display_name": "Python 3",
   "language": "python",
   "name": "python3"
  },
  "language_info": {
   "codemirror_mode": {
    "name": "ipython",
    "version": 3
   },
   "file_extension": ".py",
   "mimetype": "text/x-python",
   "name": "python",
   "nbconvert_exporter": "python",
   "pygments_lexer": "ipython3",
   "version": "3.9.0"
  },
  "orig_nbformat": 4
 },
 "nbformat": 4,
 "nbformat_minor": 2
}
