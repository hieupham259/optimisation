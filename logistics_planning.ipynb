{
 "cells": [
  {
   "cell_type": "code",
   "execution_count": 1,
   "metadata": {},
   "outputs": [],
   "source": [
    "# https://campus.datacamp.com/courses/supply-chain-analytics-in-python/basics-of-supply-chain-optimization-and-pulp?ex=9\n",
    "from pulp import *"
   ]
  },
  {
   "cell_type": "code",
   "execution_count": 2,
   "metadata": {},
   "outputs": [
    {
     "name": "stdout",
     "output_type": "stream",
     "text": [
      "{'NewYork': {'East': 211, 'South': 232, 'Midwest': 240, 'West': 300}, 'Atlanta': {'East': 232, 'South': 212, 'Midwest': 230, 'West': 280}}\n"
     ]
    }
   ],
   "source": [
    "Warehouses = [\"NewYork\", \"Atlanta\"]\n",
    "\n",
    "Customers = [\"East\", \"South\", \"Midwest\", \"West\"]\n",
    "\n",
    "demand = {\n",
    "    \"East\": 1800,\n",
    "    \"South\": 1200,\n",
    "    \"Midwest\": 1100,\n",
    "    \"West\": 1000,\n",
    "}\n",
    "\n",
    "costs = [\n",
    "    # Customers\n",
    "    [211, 232, 240, 300],  # NewYork  Warehouses\n",
    "    [232, 212, 230, 280],  # Atlanta\n",
    "]\n",
    "\n",
    "costs = makeDict([Warehouses, Customers], costs)\n",
    "print(costs)"
   ]
  },
  {
   "cell_type": "code",
   "execution_count": 3,
   "metadata": {},
   "outputs": [
    {
     "name": "stderr",
     "output_type": "stream",
     "text": [
      "c:\\Users\\admin\\AppData\\Local\\Programs\\Python\\Python39\\lib\\site-packages\\pulp\\pulp.py:1352: UserWarning: Spaces are not permitted in the name. Converted to '_'\n",
      "  warnings.warn(\"Spaces are not permitted in the name. Converted to '_'\")\n"
     ]
    },
    {
     "data": {
      "text/plain": [
       "[('NewYork', 'East'),\n",
       " ('NewYork', 'South'),\n",
       " ('NewYork', 'Midwest'),\n",
       " ('NewYork', 'West'),\n",
       " ('Atlanta', 'East'),\n",
       " ('Atlanta', 'South'),\n",
       " ('Atlanta', 'Midwest'),\n",
       " ('Atlanta', 'West')]"
      ]
     },
     "execution_count": 3,
     "metadata": {},
     "output_type": "execute_result"
    }
   ],
   "source": [
    "prob = LpProblem(\"The Logistics Planning Problem\", LpMinimize)\n",
    "Routes = []\n",
    "for w in Warehouses:\n",
    "    for c in Customers:\n",
    "        Routes.append((w, c))\n",
    "Routes"
   ]
  },
  {
   "cell_type": "code",
   "execution_count": 4,
   "metadata": {},
   "outputs": [
    {
     "data": {
      "text/plain": [
       "{'NewYork': {'East': Route_NewYork_East,\n",
       "  'South': Route_NewYork_South,\n",
       "  'Midwest': Route_NewYork_Midwest,\n",
       "  'West': Route_NewYork_West},\n",
       " 'Atlanta': {'East': Route_Atlanta_East,\n",
       "  'South': Route_Atlanta_South,\n",
       "  'Midwest': Route_Atlanta_Midwest,\n",
       "  'West': Route_Atlanta_West}}"
      ]
     },
     "execution_count": 4,
     "metadata": {},
     "output_type": "execute_result"
    }
   ],
   "source": [
    "vars = LpVariable.dicts(\"Route\", (Warehouses, Customers), 0, None, LpInteger)\n",
    "vars"
   ]
  },
  {
   "cell_type": "code",
   "execution_count": 5,
   "metadata": {},
   "outputs": [],
   "source": [
    "prob += (\n",
    "    lpSum([costs[w][c] * vars[w][c] for (w, c) in Routes]),\n",
    "    'Sum_of_Logistics_Costs'\n",
    ")\n",
    "\n",
    "for c in Customers: \n",
    "    prob += (\n",
    "        lpSum([vars[w][c] for w in Warehouses]) == demand[c],\n",
    "        f'{c}DemandConstraint'\n",
    "    )"
   ]
  },
  {
   "cell_type": "code",
   "execution_count": 6,
   "metadata": {},
   "outputs": [
    {
     "data": {
      "text/plain": [
       "1"
      ]
     },
     "execution_count": 6,
     "metadata": {},
     "output_type": "execute_result"
    }
   ],
   "source": [
    "prob.writeLP(\"LogisticsPlanning.lp\")\n",
    "# The problem is solved using PuLP's choice of Solver\n",
    "prob.solve()"
   ]
  },
  {
   "cell_type": "code",
   "execution_count": 9,
   "metadata": {},
   "outputs": [
    {
     "name": "stdout",
     "output_type": "stream",
     "text": [
      "Status: Optimal\n",
      "Route_Atlanta_East = 0.0\n",
      "Route_Atlanta_Midwest = 1100.0\n",
      "Route_Atlanta_South = 1200.0\n",
      "Route_Atlanta_West = 1000.0\n",
      "Route_NewYork_East = 1800.0\n",
      "Route_NewYork_Midwest = 0.0\n",
      "Route_NewYork_South = 0.0\n",
      "Route_NewYork_West = 0.0\n",
      "Total Cost of Logistics planning =  1167200.0\n"
     ]
    }
   ],
   "source": [
    "# The status of the solution is printed to the screen\n",
    "print(\"Status:\", LpStatus[prob.status])\n",
    "# Each of the variables is printed with it's resolved optimum value\n",
    "for v in prob.variables():\n",
    "    print(v.name, \"=\", v.varValue)\n",
    "# The optimised objective function value is printed to the screen\n",
    "print(\"Total Cost of Logistics planning = \", value(prob.objective))"
   ]
  }
 ],
 "metadata": {
  "kernelspec": {
   "display_name": "Python 3",
   "language": "python",
   "name": "python3"
  },
  "language_info": {
   "codemirror_mode": {
    "name": "ipython",
    "version": 3
   },
   "file_extension": ".py",
   "mimetype": "text/x-python",
   "name": "python",
   "nbconvert_exporter": "python",
   "pygments_lexer": "ipython3",
   "version": "3.9.0"
  },
  "orig_nbformat": 4
 },
 "nbformat": 4,
 "nbformat_minor": 2
}
