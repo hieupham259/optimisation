{
 "cells": [
  {
   "attachments": {},
   "cell_type": "markdown",
   "metadata": {},
   "source": [
    "LpProblem(name='Any name', sense=LpMinimize) => to minimize the objective function.\n",
    "LpVariable(name=, lowBound=None, upBound=None, cat='Continuous')."
   ]
  },
  {
   "attachments": {},
   "cell_type": "markdown",
   "metadata": {},
   "source": [
    "lpSum(vector)\n",
    "+ vector = A list of linear expressions\n",
    "It's only input is the list of expressions to sum. Therefore, coding this objective function in PuLP using the addition symbol is equivalent to defining this objective function using lpSum."
   ]
  }
 ],
 "metadata": {
  "language_info": {
   "name": "python"
  },
  "orig_nbformat": 4
 },
 "nbformat": 4,
 "nbformat_minor": 2
}
