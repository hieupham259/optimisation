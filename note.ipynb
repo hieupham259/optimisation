{
 "cells": [
  {
   "attachments": {},
   "cell_type": "markdown",
   "metadata": {},
   "source": [
    "LpProblem(name='Any name', sense=LpMinimize) => to minimize the objective function.\n",
    "LpVariable(name=, lowBound=None, upBound=None, cat='Continuous')."
   ]
  }
 ],
 "metadata": {
  "language_info": {
   "name": "python"
  },
  "orig_nbformat": 4
 },
 "nbformat": 4,
 "nbformat_minor": 2
}
