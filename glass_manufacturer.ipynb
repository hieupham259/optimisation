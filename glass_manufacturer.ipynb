{
 "cells": [
  {
   "cell_type": "code",
   "execution_count": null,
   "metadata": {},
   "outputs": [],
   "source": [
    "# https://campus.datacamp.com/courses/supply-chain-analytics-in-python/basics-of-supply-chain-optimization-and-pulp?ex=6\n",
    "from pulp import *\n",
    "# Initialize Class\n",
    "model = LpProblem(\"Maximize Glass Co. Profits\", LpMaximize)\n",
    "\n",
    "# Define Decision Variables\n",
    "wine = LpVariable('Wine', lowBound=0, upBound=None, cat='Integer')\n",
    "beer = LpVariable('Beer', lowBound=0, upBound=None, cat='Integer')\n",
    "\n",
    "# Define Objective Function\n",
    "model += 5 * wine + 4.5 * beer\n",
    "\n",
    "# Define Constraints\n",
    "model += 6 * wine + 5 * beer <= 60\n",
    "model += 10 * wine + 20 * beer <= 150\n",
    "model += wine <= 6\n",
    "\n",
    "# Solve Model\n",
    "model.solve()\n",
    "print(\"Produce {} batches of wine glasses\".format(wine.varValue))\n",
    "print(\"Produce {} batches of beer glasses\".format(beer.varValue))"
   ]
  }
 ],
 "metadata": {
  "language_info": {
   "name": "python"
  },
  "orig_nbformat": 4
 },
 "nbformat": 4,
 "nbformat_minor": 2
}
